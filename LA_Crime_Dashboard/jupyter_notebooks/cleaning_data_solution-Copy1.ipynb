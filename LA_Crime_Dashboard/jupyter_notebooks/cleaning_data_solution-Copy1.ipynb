{
 "cells": [
  {
   "cell_type": "code",
   "execution_count": 1,
   "metadata": {},
   "outputs": [],
   "source": [
    "# Dependencies\n",
    "import pandas as pd\n",
    "from pathlib import Path"
   ]
  },
  {
   "cell_type": "code",
   "execution_count": 2,
   "metadata": {
    "inputHidden": false,
    "outputHidden": false
   },
   "outputs": [],
   "source": [
    "# Name of the CSV file\n",
    "file = Path('Crime_Data_from_2020_to_Present_20241017.csv')"
   ]
  },
  {
   "cell_type": "code",
   "execution_count": 3,
   "metadata": {
    "inputHidden": false,
    "outputHidden": false
   },
   "outputs": [],
   "source": [
    "# The correct encoding must be used to read the CSV in pandas\n",
    "df = pd.read_csv(file)"
   ]
  },
  {
   "cell_type": "code",
   "execution_count": 8,
   "metadata": {},
   "outputs": [
    {
     "data": {
      "text/plain": [
       "Index(['DR_NO', 'Date Rptd', 'DATE OCC', 'TIME OCC', 'AREA', 'AREA NAME',\n",
       "       'Rpt Dist No', 'Part 1-2', 'Crm Cd', 'Crm Cd Desc', 'Mocodes',\n",
       "       'Vict Age', 'Vict Sex', 'Vict Descent', 'Premis Cd', 'Premis Desc',\n",
       "       'Weapon Used Cd', 'Weapon Desc', 'Status', 'Status Desc', 'Crm Cd 1',\n",
       "       'Crm Cd 2', 'Crm Cd 3', 'Crm Cd 4', 'LOCATION', 'Cross Street', 'LAT',\n",
       "       'LON'],\n",
       "      dtype='object')"
      ]
     },
     "execution_count": 8,
     "metadata": {},
     "output_type": "execute_result"
    }
   ],
   "source": [
    "df.columns"
   ]
  },
  {
   "cell_type": "code",
   "execution_count": 9,
   "metadata": {},
   "outputs": [
    {
     "data": {
      "text/plain": [
       "array(['O', 'X', 'H', 'B', 'W', nan, 'A', 'K', 'C', 'J', 'F', 'I', 'V',\n",
       "       'S', 'P', 'Z', 'G', 'U', 'D', 'L', '-'], dtype=object)"
      ]
     },
     "execution_count": 9,
     "metadata": {},
     "output_type": "execute_result"
    }
   ],
   "source": [
    "victim_descent = df['Vict Descent'].unique()\n",
    "victim_descent"
   ]
  },
  {
   "cell_type": "code",
   "execution_count": 4,
   "metadata": {
    "inputHidden": false,
    "outputHidden": false
   },
   "outputs": [
    {
     "data": {
      "text/html": [
       "<div>\n",
       "<style scoped>\n",
       "    .dataframe tbody tr th:only-of-type {\n",
       "        vertical-align: middle;\n",
       "    }\n",
       "\n",
       "    .dataframe tbody tr th {\n",
       "        vertical-align: top;\n",
       "    }\n",
       "\n",
       "    .dataframe thead th {\n",
       "        text-align: right;\n",
       "    }\n",
       "</style>\n",
       "<table border=\"1\" class=\"dataframe\">\n",
       "  <thead>\n",
       "    <tr style=\"text-align: right;\">\n",
       "      <th></th>\n",
       "      <th>DR_NO</th>\n",
       "      <th>Date Rptd</th>\n",
       "      <th>DATE OCC</th>\n",
       "      <th>TIME OCC</th>\n",
       "      <th>AREA</th>\n",
       "      <th>AREA NAME</th>\n",
       "      <th>Rpt Dist No</th>\n",
       "      <th>Part 1-2</th>\n",
       "      <th>Crm Cd</th>\n",
       "      <th>Crm Cd Desc</th>\n",
       "      <th>...</th>\n",
       "      <th>Status</th>\n",
       "      <th>Status Desc</th>\n",
       "      <th>Crm Cd 1</th>\n",
       "      <th>Crm Cd 2</th>\n",
       "      <th>Crm Cd 3</th>\n",
       "      <th>Crm Cd 4</th>\n",
       "      <th>LOCATION</th>\n",
       "      <th>Cross Street</th>\n",
       "      <th>LAT</th>\n",
       "      <th>LON</th>\n",
       "    </tr>\n",
       "  </thead>\n",
       "  <tbody>\n",
       "    <tr>\n",
       "      <th>0</th>\n",
       "      <td>190326475</td>\n",
       "      <td>03/01/2020 12:00:00 AM</td>\n",
       "      <td>03/01/2020 12:00:00 AM</td>\n",
       "      <td>2130</td>\n",
       "      <td>7</td>\n",
       "      <td>Wilshire</td>\n",
       "      <td>784</td>\n",
       "      <td>1</td>\n",
       "      <td>510</td>\n",
       "      <td>VEHICLE - STOLEN</td>\n",
       "      <td>...</td>\n",
       "      <td>AA</td>\n",
       "      <td>Adult Arrest</td>\n",
       "      <td>510.0</td>\n",
       "      <td>998.0</td>\n",
       "      <td>NaN</td>\n",
       "      <td>NaN</td>\n",
       "      <td>1900 S  LONGWOOD                     AV</td>\n",
       "      <td>NaN</td>\n",
       "      <td>34.0375</td>\n",
       "      <td>-118.3506</td>\n",
       "    </tr>\n",
       "    <tr>\n",
       "      <th>1</th>\n",
       "      <td>200106753</td>\n",
       "      <td>02/09/2020 12:00:00 AM</td>\n",
       "      <td>02/08/2020 12:00:00 AM</td>\n",
       "      <td>1800</td>\n",
       "      <td>1</td>\n",
       "      <td>Central</td>\n",
       "      <td>182</td>\n",
       "      <td>1</td>\n",
       "      <td>330</td>\n",
       "      <td>BURGLARY FROM VEHICLE</td>\n",
       "      <td>...</td>\n",
       "      <td>IC</td>\n",
       "      <td>Invest Cont</td>\n",
       "      <td>330.0</td>\n",
       "      <td>998.0</td>\n",
       "      <td>NaN</td>\n",
       "      <td>NaN</td>\n",
       "      <td>1000 S  FLOWER                       ST</td>\n",
       "      <td>NaN</td>\n",
       "      <td>34.0444</td>\n",
       "      <td>-118.2628</td>\n",
       "    </tr>\n",
       "    <tr>\n",
       "      <th>2</th>\n",
       "      <td>200320258</td>\n",
       "      <td>11/11/2020 12:00:00 AM</td>\n",
       "      <td>11/04/2020 12:00:00 AM</td>\n",
       "      <td>1700</td>\n",
       "      <td>3</td>\n",
       "      <td>Southwest</td>\n",
       "      <td>356</td>\n",
       "      <td>1</td>\n",
       "      <td>480</td>\n",
       "      <td>BIKE - STOLEN</td>\n",
       "      <td>...</td>\n",
       "      <td>IC</td>\n",
       "      <td>Invest Cont</td>\n",
       "      <td>480.0</td>\n",
       "      <td>NaN</td>\n",
       "      <td>NaN</td>\n",
       "      <td>NaN</td>\n",
       "      <td>1400 W  37TH                         ST</td>\n",
       "      <td>NaN</td>\n",
       "      <td>34.0210</td>\n",
       "      <td>-118.3002</td>\n",
       "    </tr>\n",
       "    <tr>\n",
       "      <th>3</th>\n",
       "      <td>200907217</td>\n",
       "      <td>05/10/2023 12:00:00 AM</td>\n",
       "      <td>03/10/2020 12:00:00 AM</td>\n",
       "      <td>2037</td>\n",
       "      <td>9</td>\n",
       "      <td>Van Nuys</td>\n",
       "      <td>964</td>\n",
       "      <td>1</td>\n",
       "      <td>343</td>\n",
       "      <td>SHOPLIFTING-GRAND THEFT ($950.01 &amp; OVER)</td>\n",
       "      <td>...</td>\n",
       "      <td>IC</td>\n",
       "      <td>Invest Cont</td>\n",
       "      <td>343.0</td>\n",
       "      <td>NaN</td>\n",
       "      <td>NaN</td>\n",
       "      <td>NaN</td>\n",
       "      <td>14000    RIVERSIDE                    DR</td>\n",
       "      <td>NaN</td>\n",
       "      <td>34.1576</td>\n",
       "      <td>-118.4387</td>\n",
       "    </tr>\n",
       "    <tr>\n",
       "      <th>4</th>\n",
       "      <td>220614831</td>\n",
       "      <td>08/18/2022 12:00:00 AM</td>\n",
       "      <td>08/17/2020 12:00:00 AM</td>\n",
       "      <td>1200</td>\n",
       "      <td>6</td>\n",
       "      <td>Hollywood</td>\n",
       "      <td>666</td>\n",
       "      <td>2</td>\n",
       "      <td>354</td>\n",
       "      <td>THEFT OF IDENTITY</td>\n",
       "      <td>...</td>\n",
       "      <td>IC</td>\n",
       "      <td>Invest Cont</td>\n",
       "      <td>354.0</td>\n",
       "      <td>NaN</td>\n",
       "      <td>NaN</td>\n",
       "      <td>NaN</td>\n",
       "      <td>1900    TRANSIENT</td>\n",
       "      <td>NaN</td>\n",
       "      <td>34.0944</td>\n",
       "      <td>-118.3277</td>\n",
       "    </tr>\n",
       "  </tbody>\n",
       "</table>\n",
       "<p>5 rows × 28 columns</p>\n",
       "</div>"
      ],
      "text/plain": [
       "       DR_NO               Date Rptd                DATE OCC  TIME OCC  AREA  \\\n",
       "0  190326475  03/01/2020 12:00:00 AM  03/01/2020 12:00:00 AM      2130     7   \n",
       "1  200106753  02/09/2020 12:00:00 AM  02/08/2020 12:00:00 AM      1800     1   \n",
       "2  200320258  11/11/2020 12:00:00 AM  11/04/2020 12:00:00 AM      1700     3   \n",
       "3  200907217  05/10/2023 12:00:00 AM  03/10/2020 12:00:00 AM      2037     9   \n",
       "4  220614831  08/18/2022 12:00:00 AM  08/17/2020 12:00:00 AM      1200     6   \n",
       "\n",
       "   AREA NAME  Rpt Dist No  Part 1-2  Crm Cd  \\\n",
       "0   Wilshire          784         1     510   \n",
       "1    Central          182         1     330   \n",
       "2  Southwest          356         1     480   \n",
       "3   Van Nuys          964         1     343   \n",
       "4  Hollywood          666         2     354   \n",
       "\n",
       "                                Crm Cd Desc  ... Status   Status Desc  \\\n",
       "0                          VEHICLE - STOLEN  ...     AA  Adult Arrest   \n",
       "1                     BURGLARY FROM VEHICLE  ...     IC   Invest Cont   \n",
       "2                             BIKE - STOLEN  ...     IC   Invest Cont   \n",
       "3  SHOPLIFTING-GRAND THEFT ($950.01 & OVER)  ...     IC   Invest Cont   \n",
       "4                         THEFT OF IDENTITY  ...     IC   Invest Cont   \n",
       "\n",
       "  Crm Cd 1 Crm Cd 2  Crm Cd 3 Crm Cd 4  \\\n",
       "0    510.0    998.0       NaN      NaN   \n",
       "1    330.0    998.0       NaN      NaN   \n",
       "2    480.0      NaN       NaN      NaN   \n",
       "3    343.0      NaN       NaN      NaN   \n",
       "4    354.0      NaN       NaN      NaN   \n",
       "\n",
       "                                   LOCATION Cross Street      LAT       LON  \n",
       "0   1900 S  LONGWOOD                     AV          NaN  34.0375 -118.3506  \n",
       "1   1000 S  FLOWER                       ST          NaN  34.0444 -118.2628  \n",
       "2   1400 W  37TH                         ST          NaN  34.0210 -118.3002  \n",
       "3  14000    RIVERSIDE                    DR          NaN  34.1576 -118.4387  \n",
       "4                         1900    TRANSIENT          NaN  34.0944 -118.3277  \n",
       "\n",
       "[5 rows x 28 columns]"
      ]
     },
     "execution_count": 4,
     "metadata": {},
     "output_type": "execute_result"
    }
   ],
   "source": [
    "# Preview of the DataFrame\n",
    "# Note that Memo_CD is likely a meaningless column\n",
    "df.head()"
   ]
  },
  {
   "cell_type": "code",
   "execution_count": 10,
   "metadata": {
    "inputHidden": false,
    "outputHidden": false
   },
   "outputs": [
    {
     "data": {
      "text/plain": [
       "DR_NO               int64\n",
       "Date Rptd          object\n",
       "DATE OCC           object\n",
       "TIME OCC            int64\n",
       "AREA                int64\n",
       "AREA NAME          object\n",
       "Rpt Dist No         int64\n",
       "Part 1-2            int64\n",
       "Crm Cd              int64\n",
       "Crm Cd Desc        object\n",
       "Mocodes            object\n",
       "Vict Age            int64\n",
       "Vict Sex           object\n",
       "Vict Descent       object\n",
       "Premis Cd         float64\n",
       "Premis Desc        object\n",
       "Weapon Used Cd    float64\n",
       "Weapon Desc        object\n",
       "Status             object\n",
       "Status Desc        object\n",
       "Crm Cd 1          float64\n",
       "Crm Cd 2          float64\n",
       "Crm Cd 3          float64\n",
       "Crm Cd 4          float64\n",
       "LOCATION           object\n",
       "Cross Street       object\n",
       "LAT               float64\n",
       "LON               float64\n",
       "dtype: object"
      ]
     },
     "execution_count": 10,
     "metadata": {},
     "output_type": "execute_result"
    }
   ],
   "source": [
    "df.dtypes"
   ]
  },
  {
   "cell_type": "code",
   "execution_count": 11,
   "metadata": {
    "inputHidden": false,
    "outputHidden": false
   },
   "outputs": [
    {
     "data": {
      "text/plain": [
       "DR_NO             986500\n",
       "Date Rptd         986500\n",
       "DATE OCC          986500\n",
       "TIME OCC          986500\n",
       "AREA              986500\n",
       "AREA NAME         986500\n",
       "Rpt Dist No       986500\n",
       "Part 1-2          986500\n",
       "Crm Cd            986500\n",
       "Crm Cd Desc       986500\n",
       "Mocodes           840065\n",
       "Vict Age          986500\n",
       "Vict Sex          846925\n",
       "Vict Descent      846914\n",
       "Premis Cd         986486\n",
       "Premis Desc       985915\n",
       "Weapon Used Cd    326368\n",
       "Weapon Desc       326368\n",
       "Status            986499\n",
       "Status Desc       986500\n",
       "Crm Cd 1          986489\n",
       "Crm Cd 2           68912\n",
       "Crm Cd 3            2310\n",
       "Crm Cd 4              64\n",
       "LOCATION          986500\n",
       "Cross Street      152270\n",
       "LAT               986500\n",
       "LON               986500\n",
       "dtype: int64"
      ]
     },
     "execution_count": 11,
     "metadata": {},
     "output_type": "execute_result"
    }
   ],
   "source": [
    "# Identify incomplete rows\n",
    "df.count()"
   ]
  },
  {
   "cell_type": "code",
   "execution_count": 12,
   "metadata": {},
   "outputs": [
    {
     "data": {
      "text/plain": [
       "array([510, 330, 480, 343, 354, 624, 821, 812, 230, 956, 341, 930, 668,\n",
       "       420, 813, 440, 626, 762, 441, 310, 331, 210, 662, 860, 236, 820,\n",
       "       661, 810, 901, 442, 740, 946, 761, 649, 845, 121, 745, 627, 653,\n",
       "       928, 815, 940, 625, 352, 648, 886, 666, 921, 805, 932, 900, 903,\n",
       "       439, 954, 434, 235, 220, 654, 922, 760, 670, 850, 237, 763, 345,\n",
       "       888, 320, 122, 753, 822, 520, 806, 906, 437, 410, 350, 623, 522,\n",
       "       450, 890, 755, 231, 664, 251, 951, 920, 250, 470, 902, 647, 651,\n",
       "       910, 110, 351, 421, 444, 814, 756, 433, 931, 435, 438, 443, 660,\n",
       "       950, 622, 943, 487, 949, 933, 865, 474, 652, 113, 446, 475, 471,\n",
       "       451, 436, 485, 944, 349, 942, 347, 353, 870, 473, 880, 452, 924,\n",
       "       840, 948, 884, 904, 830, 432, 882, 445, 926, 453], dtype=int64)"
      ]
     },
     "execution_count": 12,
     "metadata": {},
     "output_type": "execute_result"
    }
   ],
   "source": [
    "crime_codes = df['Crm Cd'].unique()\n",
    "crime_codes"
   ]
  },
  {
   "cell_type": "code",
   "execution_count": 13,
   "metadata": {
    "scrolled": true
   },
   "outputs": [
    {
     "data": {
      "text/plain": [
       "140"
      ]
     },
     "execution_count": 13,
     "metadata": {},
     "output_type": "execute_result"
    }
   ],
   "source": [
    "len(crime_codes)"
   ]
  },
  {
   "cell_type": "code",
   "execution_count": 14,
   "metadata": {},
   "outputs": [
    {
     "data": {
      "text/plain": [
       "array([510., 330., 480., 343., 354., 624., 812., 230., 956., 341., 930.,\n",
       "       668., 420., 813., 440., 626., 762., 441., 310., 331., 210., 662.,\n",
       "       860., 236., 661., 810., 901., 442., 740., 946., 761., 649., 845.,\n",
       "       121., 745., 627., 653., 821., 928., 815., 940., 625., 352., 648.,\n",
       "       886., 666., 921., 805., 932., 900., 820., 903., 439., 760., 954.,\n",
       "       434., 235., 220., 654., 922., 670., 850., 237., 763., 345., 888.,\n",
       "       320., 122., 753., 822., 520., 806., 906., 437., 410., 350., 623.,\n",
       "       522., 450., 890., 755., 231., 664., 251., 951., 920., 250., 470.,\n",
       "       902., 647., 651., 910., 110., 351., 421., 444., 814., 756., 433.,\n",
       "       931., 435., 438., 443., 660., 950., 622., 943., 487.,  nan, 949.,\n",
       "       933., 865., 474., 652., 113., 446., 475., 471., 451., 436., 521.,\n",
       "       485., 944., 349., 942., 347., 353., 430., 870., 473., 880., 452.,\n",
       "       924., 840., 948., 884., 904., 830., 432., 882., 445., 926., 453.])"
      ]
     },
     "execution_count": 14,
     "metadata": {},
     "output_type": "execute_result"
    }
   ],
   "source": [
    "crime_codes1 = df['Crm Cd 1'].unique()\n",
    "crime_codes1"
   ]
  },
  {
   "cell_type": "code",
   "execution_count": 15,
   "metadata": {},
   "outputs": [
    {
     "data": {
      "text/plain": [
       "143"
      ]
     },
     "execution_count": 15,
     "metadata": {},
     "output_type": "execute_result"
    }
   ],
   "source": [
    "len(crime_codes1)"
   ]
  },
  {
   "cell_type": "code",
   "execution_count": 16,
   "metadata": {},
   "outputs": [
    {
     "data": {
      "text/plain": [
       "array(['VEHICLE - STOLEN', 'BURGLARY FROM VEHICLE', 'BIKE - STOLEN',\n",
       "       'SHOPLIFTING-GRAND THEFT ($950.01 & OVER)', 'THEFT OF IDENTITY',\n",
       "       'BATTERY - SIMPLE ASSAULT',\n",
       "       'SODOMY/SEXUAL CONTACT B/W PENIS OF ONE PERS TO ANUS OTH',\n",
       "       'CRM AGNST CHLD (13 OR UNDER) (14-15 & SUSP 10 YRS OLDER)',\n",
       "       'ASSAULT WITH DEADLY WEAPON, AGGRAVATED ASSAULT',\n",
       "       'LETTERS, LEWD  -  TELEPHONE CALLS, LEWD',\n",
       "       'THEFT-GRAND ($950.01 & OVER)EXCPT,GUNS,FOWL,LIVESTK,PROD',\n",
       "       'CRIMINAL THREATS - NO WEAPON DISPLAYED',\n",
       "       'EMBEZZLEMENT, GRAND THEFT ($950.01 & OVER)',\n",
       "       'THEFT FROM MOTOR VEHICLE - PETTY ($950 & UNDER)',\n",
       "       'CHILD ANNOYING (17YRS & UNDER)',\n",
       "       'THEFT PLAIN - PETTY ($950 & UNDER)',\n",
       "       'INTIMATE PARTNER - SIMPLE ASSAULT', 'LEWD CONDUCT',\n",
       "       'THEFT PLAIN - ATTEMPT', 'BURGLARY',\n",
       "       'THEFT FROM MOTOR VEHICLE - GRAND ($950.01 AND OVER)', 'ROBBERY',\n",
       "       'BUNCO, GRAND THEFT', 'BATTERY WITH SEXUAL CONTACT',\n",
       "       'INTIMATE PARTNER - AGGRAVATED ASSAULT', 'ORAL COPULATION',\n",
       "       'UNAUTHORIZED COMPUTER ACCESS',\n",
       "       'SEX,UNLAWFUL(INC MUTUAL CONSENT, PENETRATION W/ FRGN OBJ',\n",
       "       'VIOLATION OF RESTRAINING ORDER',\n",
       "       'SHOPLIFTING - PETTY THEFT ($950 & UNDER)',\n",
       "       'VANDALISM - FELONY ($400 & OVER, ALL CHURCH VANDALISMS)',\n",
       "       'OTHER MISCELLANEOUS CRIME', 'BRANDISH WEAPON',\n",
       "       'DOCUMENT FORGERY / STOLEN FELONY',\n",
       "       'SEX OFFENDER REGISTRANT OUT OF COMPLIANCE', 'RAPE, FORCIBLE',\n",
       "       'VANDALISM - MISDEAMEANOR ($399 OR UNDER)',\n",
       "       'CHILD ABUSE (PHYSICAL) - SIMPLE ASSAULT',\n",
       "       'CREDIT CARDS, FRAUD USE ($950.01 & OVER)',\n",
       "       'THREATENING PHONE CALLS/LETTERS',\n",
       "       'SEXUAL PENETRATION W/FOREIGN OBJECT', 'EXTORTION',\n",
       "       'OTHER ASSAULT', 'PICKPOCKET', 'ARSON', 'DISTURBING THE PEACE',\n",
       "       'BUNCO, ATTEMPT', 'HUMAN TRAFFICKING - INVOLUNTARY SERVITUDE',\n",
       "       'PIMPING', 'PEEPING TOM', 'VIOLATION OF COURT ORDER',\n",
       "       'CONTEMPT OF COURT', 'FALSE POLICE REPORT', 'CONTRIBUTING',\n",
       "       'FALSE IMPRISONMENT',\n",
       "       'CHILD ABUSE (PHYSICAL) - AGGRAVATED ASSAULT', 'ATTEMPTED ROBBERY',\n",
       "       'CREDIT CARDS, FRAUD USE ($950 & UNDER', 'CHILD STEALING',\n",
       "       'LEWD/LASCIVIOUS ACTS WITH CHILD',\n",
       "       'EMBEZZLEMENT, PETTY THEFT ($950 & UNDER)', 'INDECENT EXPOSURE',\n",
       "       'CHILD NEGLECT (SEE 300 W.I.C.)', 'STALKING',\n",
       "       'DISHONEST EMPLOYEE - GRAND THEFT', 'TRESPASSING',\n",
       "       'BURGLARY, ATTEMPTED', 'RAPE, ATTEMPTED',\n",
       "       'DISCHARGE FIREARMS/SHOTS FIRED',\n",
       "       'HUMAN TRAFFICKING - COMMERCIAL SEX ACTS',\n",
       "       'VEHICLE - ATTEMPT STOLEN', 'PANDERING',\n",
       "       'FIREARMS RESTRAINING ORDER (FIREARMS RO)', 'RESISTING ARREST',\n",
       "       'BURGLARY FROM VEHICLE, ATTEMPTED', 'THEFT, PERSON',\n",
       "       'BATTERY POLICE (SIMPLE)',\n",
       "       'VEHICLE, STOLEN - OTHER (MOTORIZED SCOOTERS, BIKES, ETC)',\n",
       "       'THEFT FROM PERSON - ATTEMPT', 'FAILURE TO YIELD', 'BOMB SCARE',\n",
       "       'ASSAULT WITH DEADLY WEAPON ON POLICE OFFICER',\n",
       "       'BUNCO, PETTY THEFT', 'SHOTS FIRED AT INHABITED DWELLING',\n",
       "       'DEFRAUDING INNKEEPER/THEFT OF SERVICES, $950 & UNDER',\n",
       "       'KIDNAPPING - GRAND ATTEMPT',\n",
       "       'SHOTS FIRED AT MOVING VEHICLE, TRAIN OR AIRCRAFT',\n",
       "       'TILL TAP - GRAND THEFT ($950.01 & OVER)',\n",
       "       'VIOLATION OF TEMPORARY RESTRAINING ORDER',\n",
       "       'THROWING OBJECT AT MOVING VEHICLE',\n",
       "       'DOCUMENT WORTHLESS ($200.01 & OVER)', 'KIDNAPPING',\n",
       "       'CRIMINAL HOMICIDE', 'PURSE SNATCHING',\n",
       "       'THEFT FROM MOTOR VEHICLE - ATTEMPT',\n",
       "       'DISHONEST EMPLOYEE - PETTY THEFT', 'CHILD PORNOGRAPHY',\n",
       "       'WEAPONS POSSESSION/BOMBING',\n",
       "       'DRIVING WITHOUT OWNER CONSENT (DWOC)',\n",
       "       'REPLICA FIREARMS(SALE,DISPLAY,MANUFACTURE OR DISTRIBUTE)',\n",
       "       'LYNCHING', 'RECKLESS DRIVING', 'SHOPLIFTING - ATTEMPT',\n",
       "       'COUNTERFEIT',\n",
       "       'DEFRAUDING INNKEEPER/THEFT OF SERVICES, OVER $950.01',\n",
       "       'BATTERY ON A FIREFIGHTER', 'CRUELTY TO ANIMALS', 'BOAT - STOLEN',\n",
       "       'ILLEGAL DUMPING', 'PROWLER', 'DRUGS, TO A MINOR',\n",
       "       'THEFT, COIN MACHINE - PETTY ($950 & UNDER)',\n",
       "       'DOCUMENT WORTHLESS ($200 & UNDER)', 'MANSLAUGHTER, NEGLIGENT',\n",
       "       'PETTY THEFT - AUTO REPAIR', 'THEFT, COIN MACHINE - ATTEMPT',\n",
       "       'TILL TAP - PETTY ($950 & UNDER)', 'PURSE SNATCHING - ATTEMPT',\n",
       "       'LYNCHING - ATTEMPTED', 'BIKE - ATTEMPTED STOLEN', 'CONSPIRACY',\n",
       "       'GRAND THEFT / AUTO REPAIR', 'BRIBERY',\n",
       "       'GRAND THEFT / INSURANCE FRAUD', 'DRUNK ROLL', 'CHILD ABANDONMENT',\n",
       "       'THEFT, COIN MACHINE - GRAND ($950.01 & OVER)', 'DISRUPT SCHOOL',\n",
       "       'PICKPOCKET, ATTEMPT', 'TELEPHONE PROPERTY - DAMAGE',\n",
       "       'BEASTIALITY, CRIME AGAINST NATURE SEXUAL ASSLT WITH ANIM',\n",
       "       'BIGAMY', 'FAILURE TO DISPERSE',\n",
       "       'FIREARMS EMERGENCY PROTECTIVE ORDER (FIREARMS EPO)',\n",
       "       'INCEST (SEXUAL ACTS BETWEEN BLOOD RELATIVES)',\n",
       "       'BLOCKING DOOR INDUCTION CENTER', 'INCITING A RIOT',\n",
       "       'DISHONEST EMPLOYEE ATTEMPTED THEFT', 'TRAIN WRECKING',\n",
       "       'DRUNK ROLL - ATTEMPT'], dtype=object)"
      ]
     },
     "execution_count": 16,
     "metadata": {},
     "output_type": "execute_result"
    }
   ],
   "source": [
    "crime_desc = df['Crm Cd Desc'].unique()\n",
    "crime_desc"
   ]
  },
  {
   "cell_type": "code",
   "execution_count": 17,
   "metadata": {},
   "outputs": [
    {
     "data": {
      "text/html": [
       "<div>\n",
       "<style scoped>\n",
       "    .dataframe tbody tr th:only-of-type {\n",
       "        vertical-align: middle;\n",
       "    }\n",
       "\n",
       "    .dataframe tbody tr th {\n",
       "        vertical-align: top;\n",
       "    }\n",
       "\n",
       "    .dataframe thead th {\n",
       "        text-align: right;\n",
       "    }\n",
       "</style>\n",
       "<table border=\"1\" class=\"dataframe\">\n",
       "  <thead>\n",
       "    <tr style=\"text-align: right;\">\n",
       "      <th></th>\n",
       "      <th>Date Rptd</th>\n",
       "      <th>DATE OCC</th>\n",
       "      <th>AREA NAME</th>\n",
       "      <th>Crm Cd Desc</th>\n",
       "      <th>Mocodes</th>\n",
       "      <th>Vict Sex</th>\n",
       "      <th>Vict Descent</th>\n",
       "      <th>Premis Desc</th>\n",
       "      <th>Weapon Desc</th>\n",
       "      <th>Status</th>\n",
       "      <th>Status Desc</th>\n",
       "      <th>LOCATION</th>\n",
       "      <th>Cross Street</th>\n",
       "    </tr>\n",
       "  </thead>\n",
       "  <tbody>\n",
       "    <tr>\n",
       "      <th>count</th>\n",
       "      <td>986500</td>\n",
       "      <td>986500</td>\n",
       "      <td>986500</td>\n",
       "      <td>986500</td>\n",
       "      <td>840065</td>\n",
       "      <td>846925</td>\n",
       "      <td>846914</td>\n",
       "      <td>985915</td>\n",
       "      <td>326368</td>\n",
       "      <td>986499</td>\n",
       "      <td>986500</td>\n",
       "      <td>986500</td>\n",
       "      <td>152270</td>\n",
       "    </tr>\n",
       "    <tr>\n",
       "      <th>unique</th>\n",
       "      <td>1749</td>\n",
       "      <td>1749</td>\n",
       "      <td>21</td>\n",
       "      <td>140</td>\n",
       "      <td>309567</td>\n",
       "      <td>5</td>\n",
       "      <td>20</td>\n",
       "      <td>306</td>\n",
       "      <td>79</td>\n",
       "      <td>6</td>\n",
       "      <td>6</td>\n",
       "      <td>66322</td>\n",
       "      <td>10337</td>\n",
       "    </tr>\n",
       "    <tr>\n",
       "      <th>top</th>\n",
       "      <td>02/02/2023 12:00:00 AM</td>\n",
       "      <td>01/01/2020 12:00:00 AM</td>\n",
       "      <td>Central</td>\n",
       "      <td>VEHICLE - STOLEN</td>\n",
       "      <td>0344</td>\n",
       "      <td>M</td>\n",
       "      <td>H</td>\n",
       "      <td>STREET</td>\n",
       "      <td>STRONG-ARM (HANDS, FIST, FEET OR BODILY FORCE)</td>\n",
       "      <td>IC</td>\n",
       "      <td>Invest Cont</td>\n",
       "      <td>800 N  ALAMEDA                      ST</td>\n",
       "      <td>BROADWAY</td>\n",
       "    </tr>\n",
       "    <tr>\n",
       "      <th>freq</th>\n",
       "      <td>929</td>\n",
       "      <td>1157</td>\n",
       "      <td>68166</td>\n",
       "      <td>111632</td>\n",
       "      <td>41144</td>\n",
       "      <td>397948</td>\n",
       "      <td>293088</td>\n",
       "      <td>254978</td>\n",
       "      <td>174484</td>\n",
       "      <td>788335</td>\n",
       "      <td>788335</td>\n",
       "      <td>2556</td>\n",
       "      <td>2467</td>\n",
       "    </tr>\n",
       "  </tbody>\n",
       "</table>\n",
       "</div>"
      ],
      "text/plain": [
       "                     Date Rptd                DATE OCC AREA NAME  \\\n",
       "count                   986500                  986500    986500   \n",
       "unique                    1749                    1749        21   \n",
       "top     02/02/2023 12:00:00 AM  01/01/2020 12:00:00 AM   Central   \n",
       "freq                       929                    1157     68166   \n",
       "\n",
       "             Crm Cd Desc Mocodes Vict Sex Vict Descent Premis Desc  \\\n",
       "count             986500  840065   846925       846914      985915   \n",
       "unique               140  309567        5           20         306   \n",
       "top     VEHICLE - STOLEN    0344        M            H      STREET   \n",
       "freq              111632   41144   397948       293088      254978   \n",
       "\n",
       "                                           Weapon Desc  Status  Status Desc  \\\n",
       "count                                           326368  986499       986500   \n",
       "unique                                              79       6            6   \n",
       "top     STRONG-ARM (HANDS, FIST, FEET OR BODILY FORCE)      IC  Invest Cont   \n",
       "freq                                            174484  788335       788335   \n",
       "\n",
       "                                      LOCATION Cross Street  \n",
       "count                                   986500       152270  \n",
       "unique                                   66322        10337  \n",
       "top     800 N  ALAMEDA                      ST     BROADWAY  \n",
       "freq                                      2556         2467  "
      ]
     },
     "execution_count": 17,
     "metadata": {},
     "output_type": "execute_result"
    }
   ],
   "source": [
    "df.describe(include=['object'])"
   ]
  },
  {
   "cell_type": "code",
   "execution_count": 18,
   "metadata": {},
   "outputs": [
    {
     "data": {
      "text/plain": [
       "dr_no             986500\n",
       "Date Rptd         986500\n",
       "date_occ          986500\n",
       "time_occ          986500\n",
       "division          986500\n",
       "div_name          986500\n",
       "Rpt Dist No       986500\n",
       "Part 1-2          986500\n",
       "crime_id          986500\n",
       "crime_desc        986500\n",
       "Mocodes           840065\n",
       "vict_age          986500\n",
       "vict_sex          846925\n",
       "vict_descent      846914\n",
       "Premis Cd         986486\n",
       "Premis Desc       985915\n",
       "Weapon Used Cd    326368\n",
       "Weapon Desc       326368\n",
       "Status            986499\n",
       "Status Desc       986500\n",
       "crime_id1         986489\n",
       "Crm Cd 2           68912\n",
       "Crm Cd 3            2310\n",
       "Crm Cd 4              64\n",
       "loc_desc          986500\n",
       "Cross Street      152270\n",
       "lat               986500\n",
       "lon               986500\n",
       "dtype: int64"
      ]
     },
     "execution_count": 18,
     "metadata": {},
     "output_type": "execute_result"
    }
   ],
   "source": [
    "renamed_data = df.rename(columns={\"DR_NO\" : \"dr_no\",\"DATE OCC\": \"date_occ\", \"TIME OCC\":\"time_occ\", \"AREA\":\"division\", \"AREA NAME\":\"div_name\", \"Crm Cd\": \"crime_id\", \"Crm Cd Desc\":\"crime_desc\",\"Vict Age\":\"vict_age\",\"Vict Sex\":\"vict_sex\",\"Vict Descent\":\"vict_descent\", \"Crm Cd 1\":\"crime_id1\",\"LOCATION\":\"loc_desc\", \"LAT\":\"lat\", \"LON\":\"lon\"})\n",
    "renamed_data.count()"
   ]
  },
  {
   "cell_type": "code",
   "execution_count": 19,
   "metadata": {},
   "outputs": [
    {
     "data": {
      "text/plain": [
       "dr_no             int64\n",
       "date_occ         object\n",
       "time_occ          int64\n",
       "division          int64\n",
       "div_name         object\n",
       "crime_id          int64\n",
       "crime_desc       object\n",
       "vict_age          int64\n",
       "vict_sex         object\n",
       "vict_descent     object\n",
       "crime_id1       float64\n",
       "loc_desc         object\n",
       "lat             float64\n",
       "lon             float64\n",
       "dtype: object"
      ]
     },
     "execution_count": 19,
     "metadata": {},
     "output_type": "execute_result"
    }
   ],
   "source": [
    "reduced_data = renamed_data[[\"dr_no\",\"date_occ\",\"time_occ\",\"division\",\"div_name\",\"crime_id\",\"crime_desc\",\"vict_age\",\"vict_sex\",\"vict_descent\",\"crime_id1\",\"loc_desc\", \"lat\",\"lon\"]]\n",
    "reduced_data.dtypes"
   ]
  },
  {
   "cell_type": "code",
   "execution_count": 20,
   "metadata": {},
   "outputs": [
    {
     "data": {
      "text/plain": [
       "dr_no                    int64\n",
       "date_occ        datetime64[ns]\n",
       "time_occ                 int64\n",
       "division                 int64\n",
       "div_name                object\n",
       "crime_id                 int64\n",
       "crime_desc              object\n",
       "vict_age                 int64\n",
       "vict_sex                object\n",
       "vict_descent            object\n",
       "crime_id1              float64\n",
       "loc_desc                object\n",
       "lat                    float64\n",
       "lon                    float64\n",
       "dtype: object"
      ]
     },
     "execution_count": 20,
     "metadata": {},
     "output_type": "execute_result"
    }
   ],
   "source": [
    "converted_data = reduced_data.copy()\n",
    "converted_data = converted_data.astype({\"date_occ\":\"datetime64[ns]\"})\n",
    "converted_data.dtypes"
   ]
  },
  {
   "cell_type": "code",
   "execution_count": 21,
   "metadata": {},
   "outputs": [
    {
     "data": {
      "text/html": [
       "<div>\n",
       "<style scoped>\n",
       "    .dataframe tbody tr th:only-of-type {\n",
       "        vertical-align: middle;\n",
       "    }\n",
       "\n",
       "    .dataframe tbody tr th {\n",
       "        vertical-align: top;\n",
       "    }\n",
       "\n",
       "    .dataframe thead th {\n",
       "        text-align: right;\n",
       "    }\n",
       "</style>\n",
       "<table border=\"1\" class=\"dataframe\">\n",
       "  <thead>\n",
       "    <tr style=\"text-align: right;\">\n",
       "      <th></th>\n",
       "      <th>dr_no</th>\n",
       "      <th>date_occ</th>\n",
       "      <th>time_occ</th>\n",
       "      <th>division</th>\n",
       "      <th>div_name</th>\n",
       "      <th>crime_id</th>\n",
       "      <th>crime_desc</th>\n",
       "      <th>vict_age</th>\n",
       "      <th>vict_sex</th>\n",
       "      <th>vict_descent</th>\n",
       "      <th>crime_id1</th>\n",
       "      <th>loc_desc</th>\n",
       "      <th>lat</th>\n",
       "      <th>lon</th>\n",
       "    </tr>\n",
       "  </thead>\n",
       "  <tbody>\n",
       "    <tr>\n",
       "      <th>0</th>\n",
       "      <td>190326475</td>\n",
       "      <td>03/01/2020 12:00:00 AM</td>\n",
       "      <td>2130</td>\n",
       "      <td>7</td>\n",
       "      <td>Wilshire</td>\n",
       "      <td>510</td>\n",
       "      <td>VEHICLE - STOLEN</td>\n",
       "      <td>0</td>\n",
       "      <td>M</td>\n",
       "      <td>O</td>\n",
       "      <td>510.0</td>\n",
       "      <td>1900 S  LONGWOOD                     AV</td>\n",
       "      <td>34.0375</td>\n",
       "      <td>-118.3506</td>\n",
       "    </tr>\n",
       "    <tr>\n",
       "      <th>1</th>\n",
       "      <td>200106753</td>\n",
       "      <td>02/08/2020 12:00:00 AM</td>\n",
       "      <td>1800</td>\n",
       "      <td>1</td>\n",
       "      <td>Central</td>\n",
       "      <td>330</td>\n",
       "      <td>BURGLARY FROM VEHICLE</td>\n",
       "      <td>47</td>\n",
       "      <td>M</td>\n",
       "      <td>O</td>\n",
       "      <td>330.0</td>\n",
       "      <td>1000 S  FLOWER                       ST</td>\n",
       "      <td>34.0444</td>\n",
       "      <td>-118.2628</td>\n",
       "    </tr>\n",
       "    <tr>\n",
       "      <th>2</th>\n",
       "      <td>200320258</td>\n",
       "      <td>11/04/2020 12:00:00 AM</td>\n",
       "      <td>1700</td>\n",
       "      <td>3</td>\n",
       "      <td>Southwest</td>\n",
       "      <td>480</td>\n",
       "      <td>BIKE - STOLEN</td>\n",
       "      <td>19</td>\n",
       "      <td>X</td>\n",
       "      <td>X</td>\n",
       "      <td>480.0</td>\n",
       "      <td>1400 W  37TH                         ST</td>\n",
       "      <td>34.0210</td>\n",
       "      <td>-118.3002</td>\n",
       "    </tr>\n",
       "    <tr>\n",
       "      <th>3</th>\n",
       "      <td>200907217</td>\n",
       "      <td>03/10/2020 12:00:00 AM</td>\n",
       "      <td>2037</td>\n",
       "      <td>9</td>\n",
       "      <td>Van Nuys</td>\n",
       "      <td>343</td>\n",
       "      <td>SHOPLIFTING-GRAND THEFT ($950.01 &amp; OVER)</td>\n",
       "      <td>19</td>\n",
       "      <td>M</td>\n",
       "      <td>O</td>\n",
       "      <td>343.0</td>\n",
       "      <td>14000    RIVERSIDE                    DR</td>\n",
       "      <td>34.1576</td>\n",
       "      <td>-118.4387</td>\n",
       "    </tr>\n",
       "    <tr>\n",
       "      <th>4</th>\n",
       "      <td>220614831</td>\n",
       "      <td>08/17/2020 12:00:00 AM</td>\n",
       "      <td>1200</td>\n",
       "      <td>6</td>\n",
       "      <td>Hollywood</td>\n",
       "      <td>354</td>\n",
       "      <td>THEFT OF IDENTITY</td>\n",
       "      <td>28</td>\n",
       "      <td>M</td>\n",
       "      <td>H</td>\n",
       "      <td>354.0</td>\n",
       "      <td>1900    TRANSIENT</td>\n",
       "      <td>34.0944</td>\n",
       "      <td>-118.3277</td>\n",
       "    </tr>\n",
       "  </tbody>\n",
       "</table>\n",
       "</div>"
      ],
      "text/plain": [
       "       dr_no                date_occ  time_occ  division   div_name  crime_id  \\\n",
       "0  190326475  03/01/2020 12:00:00 AM      2130         7   Wilshire       510   \n",
       "1  200106753  02/08/2020 12:00:00 AM      1800         1    Central       330   \n",
       "2  200320258  11/04/2020 12:00:00 AM      1700         3  Southwest       480   \n",
       "3  200907217  03/10/2020 12:00:00 AM      2037         9   Van Nuys       343   \n",
       "4  220614831  08/17/2020 12:00:00 AM      1200         6  Hollywood       354   \n",
       "\n",
       "                                 crime_desc  vict_age vict_sex vict_descent  \\\n",
       "0                          VEHICLE - STOLEN         0        M            O   \n",
       "1                     BURGLARY FROM VEHICLE        47        M            O   \n",
       "2                             BIKE - STOLEN        19        X            X   \n",
       "3  SHOPLIFTING-GRAND THEFT ($950.01 & OVER)        19        M            O   \n",
       "4                         THEFT OF IDENTITY        28        M            H   \n",
       "\n",
       "   crime_id1                                  loc_desc      lat       lon  \n",
       "0      510.0   1900 S  LONGWOOD                     AV  34.0375 -118.3506  \n",
       "1      330.0   1000 S  FLOWER                       ST  34.0444 -118.2628  \n",
       "2      480.0   1400 W  37TH                         ST  34.0210 -118.3002  \n",
       "3      343.0  14000    RIVERSIDE                    DR  34.1576 -118.4387  \n",
       "4      354.0                         1900    TRANSIENT  34.0944 -118.3277  "
      ]
     },
     "execution_count": 21,
     "metadata": {},
     "output_type": "execute_result"
    }
   ],
   "source": [
    "reduced_data.head()"
   ]
  },
  {
   "cell_type": "code",
   "execution_count": 22,
   "metadata": {},
   "outputs": [
    {
     "data": {
      "text/plain": [
       "dr_no           302294\n",
       "date_occ        302294\n",
       "time_occ        302294\n",
       "division        302294\n",
       "div_name        302294\n",
       "crime_id        302294\n",
       "crime_desc      302294\n",
       "vict_age        302294\n",
       "vict_sex        258823\n",
       "vict_descent    258822\n",
       "crime_id1       302290\n",
       "loc_desc        302294\n",
       "lat             302294\n",
       "lon             302294\n",
       "dtype: int64"
      ]
     },
     "execution_count": 22,
     "metadata": {},
     "output_type": "execute_result"
    }
   ],
   "source": [
    "date_data = reduced_data.copy()\n",
    "date_data = date_data.loc[(date_data[\"date_occ\"] > '09/01/2023' )]\n",
    "date_data.count()"
   ]
  },
  {
   "cell_type": "code",
   "execution_count": null,
   "metadata": {},
   "outputs": [],
   "source": [
    "# converted_data['time_occ'] = pd.to_datetime(converted_data['time_occ'], format='%H:%M').dt.time\n",
    "# converted_data.dtypes"
   ]
  },
  {
   "cell_type": "code",
   "execution_count": 23,
   "metadata": {},
   "outputs": [
    {
     "data": {
      "text/plain": [
       "division\n",
       "1     21520\n",
       "12    18360\n",
       "14    17681\n",
       "3     17429\n",
       "6     15897\n",
       "20    15250\n",
       "15    15192\n",
       "7     14791\n",
       "18    14778\n",
       "13    14773\n",
       "2     14488\n",
       "8     13904\n",
       "11    12817\n",
       "10    12757\n",
       "9     12571\n",
       "17    12416\n",
       "5     12343\n",
       "21    12269\n",
       "19    11995\n",
       "4     11213\n",
       "16     9850\n",
       "Name: count, dtype: int64"
      ]
     },
     "execution_count": 23,
     "metadata": {},
     "output_type": "execute_result"
    }
   ],
   "source": [
    "totals_division = date_data['division'].value_counts()\n",
    "totals_division"
   ]
  },
  {
   "cell_type": "code",
   "execution_count": 24,
   "metadata": {},
   "outputs": [
    {
     "data": {
      "text/plain": [
       "crime_id\n",
       "510    34862\n",
       "624    23133\n",
       "330    19085\n",
       "354    18282\n",
       "310    17986\n",
       "       ...  \n",
       "906        1\n",
       "830        1\n",
       "432        1\n",
       "347        1\n",
       "446        1\n",
       "Name: count, Length: 137, dtype: int64"
      ]
     },
     "execution_count": 24,
     "metadata": {},
     "output_type": "execute_result"
    }
   ],
   "source": [
    "totals_crime = date_data['crime_id'].value_counts()\n",
    "totals_crime"
   ]
  },
  {
   "cell_type": "code",
   "execution_count": 25,
   "metadata": {},
   "outputs": [
    {
     "data": {
      "text/plain": [
       "crime_desc\n",
       "VEHICLE - STOLEN                                34862\n",
       "BATTERY - SIMPLE ASSAULT                        23133\n",
       "BURGLARY FROM VEHICLE                           19085\n",
       "THEFT OF IDENTITY                               18282\n",
       "BURGLARY                                        17986\n",
       "                                                ...  \n",
       "FIREARMS RESTRAINING ORDER (FIREARMS RO)            1\n",
       "INCEST (SEXUAL ACTS BETWEEN BLOOD RELATIVES)        1\n",
       "BLOCKING DOOR INDUCTION CENTER                      1\n",
       "GRAND THEFT / INSURANCE FRAUD                       1\n",
       "PETTY THEFT - AUTO REPAIR                           1\n",
       "Name: count, Length: 137, dtype: int64"
      ]
     },
     "execution_count": 25,
     "metadata": {},
     "output_type": "execute_result"
    }
   ],
   "source": [
    "totals_crime = date_data['crime_desc'].value_counts()\n",
    "totals_crime"
   ]
  },
  {
   "cell_type": "code",
   "execution_count": 26,
   "metadata": {},
   "outputs": [
    {
     "data": {
      "text/html": [
       "<div>\n",
       "<style scoped>\n",
       "    .dataframe tbody tr th:only-of-type {\n",
       "        vertical-align: middle;\n",
       "    }\n",
       "\n",
       "    .dataframe tbody tr th {\n",
       "        vertical-align: top;\n",
       "    }\n",
       "\n",
       "    .dataframe thead th {\n",
       "        text-align: right;\n",
       "    }\n",
       "</style>\n",
       "<table border=\"1\" class=\"dataframe\">\n",
       "  <thead>\n",
       "    <tr style=\"text-align: right;\">\n",
       "      <th></th>\n",
       "      <th>dr_no</th>\n",
       "      <th>date_occ</th>\n",
       "      <th>time_occ</th>\n",
       "      <th>division</th>\n",
       "      <th>div_name</th>\n",
       "      <th>crime_desc</th>\n",
       "      <th>vict_age</th>\n",
       "      <th>vict_sex</th>\n",
       "      <th>vict_descent</th>\n",
       "      <th>crime_id1</th>\n",
       "      <th>loc_desc</th>\n",
       "      <th>lat</th>\n",
       "      <th>lon</th>\n",
       "    </tr>\n",
       "    <tr>\n",
       "      <th>crime_id</th>\n",
       "      <th></th>\n",
       "      <th></th>\n",
       "      <th></th>\n",
       "      <th></th>\n",
       "      <th></th>\n",
       "      <th></th>\n",
       "      <th></th>\n",
       "      <th></th>\n",
       "      <th></th>\n",
       "      <th></th>\n",
       "      <th></th>\n",
       "      <th></th>\n",
       "      <th></th>\n",
       "    </tr>\n",
       "  </thead>\n",
       "  <tbody>\n",
       "    <tr>\n",
       "      <th>110</th>\n",
       "      <td>515</td>\n",
       "      <td>515</td>\n",
       "      <td>515</td>\n",
       "      <td>515</td>\n",
       "      <td>515</td>\n",
       "      <td>515</td>\n",
       "      <td>515</td>\n",
       "      <td>515</td>\n",
       "      <td>515</td>\n",
       "      <td>515</td>\n",
       "      <td>515</td>\n",
       "      <td>515</td>\n",
       "      <td>515</td>\n",
       "    </tr>\n",
       "    <tr>\n",
       "      <th>113</th>\n",
       "      <td>4</td>\n",
       "      <td>4</td>\n",
       "      <td>4</td>\n",
       "      <td>4</td>\n",
       "      <td>4</td>\n",
       "      <td>4</td>\n",
       "      <td>4</td>\n",
       "      <td>4</td>\n",
       "      <td>4</td>\n",
       "      <td>4</td>\n",
       "      <td>4</td>\n",
       "      <td>4</td>\n",
       "      <td>4</td>\n",
       "    </tr>\n",
       "    <tr>\n",
       "      <th>121</th>\n",
       "      <td>1167</td>\n",
       "      <td>1167</td>\n",
       "      <td>1167</td>\n",
       "      <td>1167</td>\n",
       "      <td>1167</td>\n",
       "      <td>1167</td>\n",
       "      <td>1167</td>\n",
       "      <td>1167</td>\n",
       "      <td>1167</td>\n",
       "      <td>1167</td>\n",
       "      <td>1167</td>\n",
       "      <td>1167</td>\n",
       "      <td>1167</td>\n",
       "    </tr>\n",
       "    <tr>\n",
       "      <th>122</th>\n",
       "      <td>102</td>\n",
       "      <td>102</td>\n",
       "      <td>102</td>\n",
       "      <td>102</td>\n",
       "      <td>102</td>\n",
       "      <td>102</td>\n",
       "      <td>102</td>\n",
       "      <td>102</td>\n",
       "      <td>102</td>\n",
       "      <td>102</td>\n",
       "      <td>102</td>\n",
       "      <td>102</td>\n",
       "      <td>102</td>\n",
       "    </tr>\n",
       "    <tr>\n",
       "      <th>210</th>\n",
       "      <td>10039</td>\n",
       "      <td>10039</td>\n",
       "      <td>10039</td>\n",
       "      <td>10039</td>\n",
       "      <td>10039</td>\n",
       "      <td>10039</td>\n",
       "      <td>10039</td>\n",
       "      <td>10035</td>\n",
       "      <td>10035</td>\n",
       "      <td>10039</td>\n",
       "      <td>10039</td>\n",
       "      <td>10039</td>\n",
       "      <td>10039</td>\n",
       "    </tr>\n",
       "    <tr>\n",
       "      <th>...</th>\n",
       "      <td>...</td>\n",
       "      <td>...</td>\n",
       "      <td>...</td>\n",
       "      <td>...</td>\n",
       "      <td>...</td>\n",
       "      <td>...</td>\n",
       "      <td>...</td>\n",
       "      <td>...</td>\n",
       "      <td>...</td>\n",
       "      <td>...</td>\n",
       "      <td>...</td>\n",
       "      <td>...</td>\n",
       "      <td>...</td>\n",
       "    </tr>\n",
       "    <tr>\n",
       "      <th>949</th>\n",
       "      <td>33</td>\n",
       "      <td>33</td>\n",
       "      <td>33</td>\n",
       "      <td>33</td>\n",
       "      <td>33</td>\n",
       "      <td>33</td>\n",
       "      <td>33</td>\n",
       "      <td>33</td>\n",
       "      <td>33</td>\n",
       "      <td>33</td>\n",
       "      <td>33</td>\n",
       "      <td>33</td>\n",
       "      <td>33</td>\n",
       "    </tr>\n",
       "    <tr>\n",
       "      <th>950</th>\n",
       "      <td>17</td>\n",
       "      <td>17</td>\n",
       "      <td>17</td>\n",
       "      <td>17</td>\n",
       "      <td>17</td>\n",
       "      <td>17</td>\n",
       "      <td>17</td>\n",
       "      <td>17</td>\n",
       "      <td>17</td>\n",
       "      <td>17</td>\n",
       "      <td>17</td>\n",
       "      <td>17</td>\n",
       "      <td>17</td>\n",
       "    </tr>\n",
       "    <tr>\n",
       "      <th>951</th>\n",
       "      <td>112</td>\n",
       "      <td>112</td>\n",
       "      <td>112</td>\n",
       "      <td>112</td>\n",
       "      <td>112</td>\n",
       "      <td>112</td>\n",
       "      <td>112</td>\n",
       "      <td>112</td>\n",
       "      <td>112</td>\n",
       "      <td>112</td>\n",
       "      <td>112</td>\n",
       "      <td>112</td>\n",
       "      <td>112</td>\n",
       "    </tr>\n",
       "    <tr>\n",
       "      <th>954</th>\n",
       "      <td>12</td>\n",
       "      <td>12</td>\n",
       "      <td>12</td>\n",
       "      <td>12</td>\n",
       "      <td>12</td>\n",
       "      <td>12</td>\n",
       "      <td>12</td>\n",
       "      <td>12</td>\n",
       "      <td>12</td>\n",
       "      <td>12</td>\n",
       "      <td>12</td>\n",
       "      <td>12</td>\n",
       "      <td>12</td>\n",
       "    </tr>\n",
       "    <tr>\n",
       "      <th>956</th>\n",
       "      <td>2478</td>\n",
       "      <td>2478</td>\n",
       "      <td>2478</td>\n",
       "      <td>2478</td>\n",
       "      <td>2478</td>\n",
       "      <td>2478</td>\n",
       "      <td>2478</td>\n",
       "      <td>2478</td>\n",
       "      <td>2477</td>\n",
       "      <td>2478</td>\n",
       "      <td>2478</td>\n",
       "      <td>2478</td>\n",
       "      <td>2478</td>\n",
       "    </tr>\n",
       "  </tbody>\n",
       "</table>\n",
       "<p>137 rows × 13 columns</p>\n",
       "</div>"
      ],
      "text/plain": [
       "          dr_no  date_occ  time_occ  division  div_name  crime_desc  vict_age  \\\n",
       "crime_id                                                                        \n",
       "110         515       515       515       515       515         515       515   \n",
       "113           4         4         4         4         4           4         4   \n",
       "121        1167      1167      1167      1167      1167        1167      1167   \n",
       "122         102       102       102       102       102         102       102   \n",
       "210       10039     10039     10039     10039     10039       10039     10039   \n",
       "...         ...       ...       ...       ...       ...         ...       ...   \n",
       "949          33        33        33        33        33          33        33   \n",
       "950          17        17        17        17        17          17        17   \n",
       "951         112       112       112       112       112         112       112   \n",
       "954          12        12        12        12        12          12        12   \n",
       "956        2478      2478      2478      2478      2478        2478      2478   \n",
       "\n",
       "          vict_sex  vict_descent  crime_id1  loc_desc    lat    lon  \n",
       "crime_id                                                             \n",
       "110            515           515        515       515    515    515  \n",
       "113              4             4          4         4      4      4  \n",
       "121           1167          1167       1167      1167   1167   1167  \n",
       "122            102           102        102       102    102    102  \n",
       "210          10035         10035      10039     10039  10039  10039  \n",
       "...            ...           ...        ...       ...    ...    ...  \n",
       "949             33            33         33        33     33     33  \n",
       "950             17            17         17        17     17     17  \n",
       "951            112           112        112       112    112    112  \n",
       "954             12            12         12        12     12     12  \n",
       "956           2478          2477       2478      2478   2478   2478  \n",
       "\n",
       "[137 rows x 13 columns]"
      ]
     },
     "execution_count": 26,
     "metadata": {},
     "output_type": "execute_result"
    }
   ],
   "source": [
    "groups_crime = date_data.groupby([\"crime_id\"])\n",
    "groups_crime.count()"
   ]
  },
  {
   "cell_type": "code",
   "execution_count": 27,
   "metadata": {},
   "outputs": [
    {
     "data": {
      "text/plain": [
       "Index(['dr_no', 'date_occ', 'time_occ', 'division', 'div_name', 'crime_id',\n",
       "       'crime_desc', 'vict_age', 'vict_sex', 'vict_descent', 'crime_id1',\n",
       "       'loc_desc', 'lat', 'lon'],\n",
       "      dtype='object')"
      ]
     },
     "execution_count": 27,
     "metadata": {},
     "output_type": "execute_result"
    }
   ],
   "source": [
    "date_data.columns"
   ]
  },
  {
   "cell_type": "code",
   "execution_count": 28,
   "metadata": {},
   "outputs": [],
   "source": [
    "date_data.to_csv('date_data.csv', index=False)"
   ]
  },
  {
   "cell_type": "code",
   "execution_count": null,
   "metadata": {},
   "outputs": [],
   "source": [
    "date_data.to_json('date_data.json', orient='records')"
   ]
  },
  {
   "cell_type": "code",
   "execution_count": null,
   "metadata": {},
   "outputs": [],
   "source": [
    "crime_details = date_data.loc[(date_data[\"crime_id\"] == 113)]\n",
    "crime_details"
   ]
  },
  {
   "cell_type": "code",
   "execution_count": null,
   "metadata": {},
   "outputs": [],
   "source": [
    "crime_desc2 = date_data['crime_desc'].unique()\n",
    "len(crime_desc2)"
   ]
  },
  {
   "cell_type": "code",
   "execution_count": null,
   "metadata": {},
   "outputs": [],
   "source": [
    "crime_id2 = date_data['crime_id'].unique()\n",
    "len(crime_id2)"
   ]
  },
  {
   "cell_type": "code",
   "execution_count": null,
   "metadata": {},
   "outputs": [],
   "source": [
    "crimes = date_data.loc[(date_data[\"crime_id\"] > 100) & (date_data[\"crime_id\"] < 200) ]\n",
    "crimes"
   ]
  },
  {
   "cell_type": "code",
   "execution_count": null,
   "metadata": {},
   "outputs": [],
   "source": [
    "crimes['crime_id'].unique()"
   ]
  },
  {
   "cell_type": "code",
   "execution_count": null,
   "metadata": {},
   "outputs": [],
   "source": [
    "crimes['crime_desc'].unique()"
   ]
  },
  {
   "cell_type": "code",
   "execution_count": null,
   "metadata": {},
   "outputs": [],
   "source": [
    "descriptions = date_data[f\"{'crime_desc'}\"]\n",
    "descriptions.unique()"
   ]
  },
  {
   "cell_type": "code",
   "execution_count": null,
   "metadata": {},
   "outputs": [],
   "source": [
    "crimes2 = date_data.loc[(date_data[\"crime_id\"] >= 200) & (date_data[\"crime_id\"] < 300) ]"
   ]
  },
  {
   "cell_type": "code",
   "execution_count": null,
   "metadata": {},
   "outputs": [],
   "source": [
    "crimes2['crime_id'].unique()"
   ]
  },
  {
   "cell_type": "code",
   "execution_count": null,
   "metadata": {},
   "outputs": [],
   "source": [
    "crimes2['crime_desc'].unique()"
   ]
  },
  {
   "cell_type": "code",
   "execution_count": null,
   "metadata": {},
   "outputs": [],
   "source": [
    "crimes3 = date_data.loc[(date_data[\"crime_id\"] >= 300) & (date_data[\"crime_id\"] < 400) ]"
   ]
  },
  {
   "cell_type": "code",
   "execution_count": null,
   "metadata": {},
   "outputs": [],
   "source": [
    "crimes3['crime_id'].unique()"
   ]
  },
  {
   "cell_type": "code",
   "execution_count": null,
   "metadata": {},
   "outputs": [],
   "source": [
    "crimes3['crime_desc'].unique()"
   ]
  },
  {
   "cell_type": "code",
   "execution_count": null,
   "metadata": {},
   "outputs": [],
   "source": [
    "crimes4 = date_data.loc[(date_data[\"crime_id\"] >= 400) & (date_data[\"crime_id\"] < 500) ]"
   ]
  },
  {
   "cell_type": "code",
   "execution_count": null,
   "metadata": {},
   "outputs": [],
   "source": [
    "crimes4['crime_id'].unique()"
   ]
  },
  {
   "cell_type": "code",
   "execution_count": null,
   "metadata": {},
   "outputs": [],
   "source": [
    "crimes4['crime_desc'].unique()"
   ]
  },
  {
   "cell_type": "code",
   "execution_count": null,
   "metadata": {},
   "outputs": [],
   "source": [
    "crimes5 = date_data.loc[(date_data[\"crime_id\"] >= 500) & (date_data[\"crime_id\"] < 600) ]"
   ]
  },
  {
   "cell_type": "code",
   "execution_count": null,
   "metadata": {},
   "outputs": [],
   "source": [
    "crimes5['crime_id'].unique()"
   ]
  },
  {
   "cell_type": "code",
   "execution_count": null,
   "metadata": {},
   "outputs": [],
   "source": [
    "crimes5['crime_desc'].unique()"
   ]
  },
  {
   "cell_type": "code",
   "execution_count": null,
   "metadata": {},
   "outputs": [],
   "source": [
    "crimes6['crime_id'].unique()"
   ]
  },
  {
   "cell_type": "code",
   "execution_count": null,
   "metadata": {},
   "outputs": [],
   "source": [
    "crimes6['crime_desc'].unique()"
   ]
  },
  {
   "cell_type": "code",
   "execution_count": null,
   "metadata": {},
   "outputs": [],
   "source": [
    "crimes7 = date_data.loc[(date_data[\"crime_id\"] >= 700) & (date_data[\"crime_id\"] < 800) ]"
   ]
  },
  {
   "cell_type": "code",
   "execution_count": null,
   "metadata": {},
   "outputs": [],
   "source": [
    "crimes7['crime_id'].unique()"
   ]
  },
  {
   "cell_type": "code",
   "execution_count": null,
   "metadata": {},
   "outputs": [],
   "source": [
    "crimes7['crime_desc'].unique()"
   ]
  },
  {
   "cell_type": "code",
   "execution_count": null,
   "metadata": {},
   "outputs": [],
   "source": [
    "crimes8 = date_data.loc[(date_data[\"crime_id\"] >= 800) & (date_data[\"crime_id\"] < 900) ]"
   ]
  },
  {
   "cell_type": "code",
   "execution_count": null,
   "metadata": {},
   "outputs": [],
   "source": [
    "crimes8['crime_id'].unique()"
   ]
  },
  {
   "cell_type": "code",
   "execution_count": null,
   "metadata": {},
   "outputs": [],
   "source": [
    "crimes8['crime_desc'].unique()"
   ]
  },
  {
   "cell_type": "code",
   "execution_count": null,
   "metadata": {},
   "outputs": [],
   "source": [
    "crimes9 = date_data.loc[(date_data[\"crime_id\"] >= 900) & (date_data[\"crime_id\"] < 1000) ]"
   ]
  },
  {
   "cell_type": "code",
   "execution_count": null,
   "metadata": {},
   "outputs": [],
   "source": [
    "crimes9['crime_id'].unique()"
   ]
  },
  {
   "cell_type": "code",
   "execution_count": null,
   "metadata": {},
   "outputs": [],
   "source": [
    "crimes9['crime_desc'].unique()"
   ]
  }
 ],
 "metadata": {
  "anaconda-cloud": {},
  "kernel_info": {
   "name": "python3"
  },
  "kernelspec": {
   "display_name": "Python 3 (ipykernel)",
   "language": "python",
   "name": "python3"
  },
  "language_info": {
   "codemirror_mode": {
    "name": "ipython",
    "version": 3
   },
   "file_extension": ".py",
   "mimetype": "text/x-python",
   "name": "python",
   "nbconvert_exporter": "python",
   "pygments_lexer": "ipython3",
   "version": "3.12.4"
  },
  "nteract": {
   "version": "0.2.0"
  }
 },
 "nbformat": 4,
 "nbformat_minor": 4
}
